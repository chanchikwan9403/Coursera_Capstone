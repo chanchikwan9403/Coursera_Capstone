{
    "nbformat_minor": 1, 
    "cells": [
        {
            "source": "# Capstone Project - The Battle of Neighborhoods", 
            "cell_type": "markdown", 
            "metadata": {}
        }, 
        {
            "source": "# Introduction", 
            "cell_type": "markdown", 
            "metadata": {}
        }, 
        {
            "source": "## Business Problem", 
            "cell_type": "markdown", 
            "metadata": {}
        }, 
        {
            "source": "The target audience of this analysis are people who want to open a new business in catering industry in Hong Kong but have limited funds and little knowledge on catering industry.<br>\nThis analysis will make use of foursquare location data to help their decision.\n\n\nHong Kong is crowded with shops, buildings and people. Although it is highly populated, it is hard to maintain a business as rents incur lots of cost.  <br>\nTherefore, as an important factor that affacts the number of customer, choosing a correct location is vital in store\u2019s profitability, which is crucial to the business survival rate. <br>\nSo, suppose you want to open a new resturant in Hong Kong, which neighbourhood should you choose?\n\nIn this analysis, let's use coffee shop as an example as it is one of the most popular type of restaurant in Hong Kong. <br>\nWe will explore the catering industry in different neighbourhoods in Hong Kong\n\nHere are several questions to answer: <br>\n*Which locations have the most/least coffee shops?*<br>\n*Is there a relationship between the number of nearby facilities and the number of coffee shops?* <br>\n*Which other locations are similar in term of the distribution of catering businesses ?* \n\n", 
            "cell_type": "markdown", 
            "metadata": {}
        }, 
        {
            "source": "# Data\n\nTo solve this problem, we need to use the following data and tools. \n1. The names of various neighborhoods in Hong Kong <br>\nThe name of communities are retrieved from the Midland Realty, a well known real estate company (https://www.midland.com.hk/).\n2. Coordinates of various neighborhoods in Hong Kong <br>\nWe need latitude and longitude to plot different locations for visualization. <br>\nThey will also be used to explore the neighborhood using Foursquare api. <br>\nWe will use GeoPy's Nominatim to get the latitude and longitude for each neighborhood\n3. Foursquare api <br>\nWe will utilize the Foursquare api to search the list of venues grouped by categories for each neighborhood", 
            "cell_type": "markdown", 
            "metadata": {}
        }, 
        {
            "source": "# Methodology\n\nIn this analysis, there are 4 main sections.\n1. Data collection  <br>\nScrap the neighborhoods' names from website, perform data cleansing, prepare coordinate information   \n2. Data exploration  <br>\nVisualise the neighborhoods' location, search for venues, understand the data with descriptive statistics \n3. Data preparation   <br>\nPrepare data for clustering algorithm\n4. Modelling  <br>\nUse clustering algorithm to group neighborhoods into clusters", 
            "cell_type": "markdown", 
            "metadata": {}
        }, 
        {
            "source": "## Data collection\n\n#### Scraping the community names from Midland Realty\n<a id='5'></a>", 
            "cell_type": "markdown", 
            "metadata": {}
        }, 
        {
            "source": "#### Import BeautifulSoup and scrap the text", 
            "cell_type": "markdown", 
            "metadata": {}
        }, 
        {
            "execution_count": 179, 
            "cell_type": "code", 
            "metadata": {}, 
            "outputs": [], 
            "source": "import requests\nimport pandas as pd\nfrom bs4 import BeautifulSoup as bs\n\nurl = \"https://en.midland.com.hk/estate/Kowloon-20\"\nhtml = requests.get(url).text\nsoup = bs(html, 'html.parser')"
        }, 
        {
            "source": "#### Find the text after parsing", 
            "cell_type": "markdown", 
            "metadata": {}
        }, 
        {
            "execution_count": 180, 
            "cell_type": "code", 
            "metadata": {}, 
            "outputs": [
                {
                    "execution_count": 180, 
                    "metadata": {}, 
                    "data": {
                        "text/plain": "['Kowloon (1049)',\n 'Tsim Sha Tsui                                      (87)',\n 'Kowloon Station                                    (8)',\n 'Yau Ma Tei                                         (10)',\n 'Kingspark                                          (12)',\n 'Mongkok                                            (105)',\n 'Tai Kok Tsui                                       (36)',\n 'Olympic                                            (11)',\n 'Lai Chi Kok                                        (8)',\n 'Mei Foo                                            (11)',\n 'Cheung Sha Wan / Sham Shui Po                      (189)',\n 'Yau Yat Chuen                                      (35)',\n 'Kowloon Tong / Beacon Hill                         (72)',\n 'Ho Man Tin                                         (130)',\n 'Hung Hom                                           (55)',\n 'To Kwa Wan                                         (68)',\n 'Kai Tak                                            (7)',\n 'Kowloon City                                       (20)',\n 'Wong Tai Sin / Lok Fu                              (12)',\n 'Diamond Hill / San Po Kong / Ngau Chi Wan          (45)',\n 'Kowloon Bay                                        (9)',\n 'Kwun Tong                                          (29)',\n 'Lam Tin / Yau Tong                                 (22)',\n 'Lohas Park                                         (13)',\n 'Tiu Keng Leng                                      (8)',\n 'Hang Hau                                           (12)',\n 'Po Lam / Tseung Kwan O Station                     (35)']"
                    }, 
                    "output_type": "execute_result"
                }
            ], 
            "source": "ta = soup.find('nav', {'id': 'districts'})\nChildren = ta.findChildren(\"a\" , recursive=False)\nsubdistricts = []\nfor child in Children:\n    subdistricts.append(child.text)\nsubdistricts"
        }, 
        {
            "source": "#### Convert the list into data frame and display the first few rows", 
            "cell_type": "markdown", 
            "metadata": {}
        }, 
        {
            "execution_count": 181, 
            "cell_type": "code", 
            "metadata": {}, 
            "outputs": [
                {
                    "execution_count": 181, 
                    "metadata": {}, 
                    "data": {
                        "text/html": "<div>\n<style scoped>\n    .dataframe tbody tr th:only-of-type {\n        vertical-align: middle;\n    }\n\n    .dataframe tbody tr th {\n        vertical-align: top;\n    }\n\n    .dataframe thead th {\n        text-align: right;\n    }\n</style>\n<table border=\"1\" class=\"dataframe\">\n  <thead>\n    <tr style=\"text-align: right;\">\n      <th></th>\n      <th>District</th>\n      <th>neighborhood</th>\n    </tr>\n  </thead>\n  <tbody>\n    <tr>\n      <th>0</th>\n      <td>Kowloon (1049)</td>\n      <td>Tsim Sha Tsui                                 ...</td>\n    </tr>\n    <tr>\n      <th>1</th>\n      <td>Kowloon (1049)</td>\n      <td>Kowloon Station                               ...</td>\n    </tr>\n    <tr>\n      <th>2</th>\n      <td>Kowloon (1049)</td>\n      <td>Yau Ma Tei                                    ...</td>\n    </tr>\n    <tr>\n      <th>3</th>\n      <td>Kowloon (1049)</td>\n      <td>Kingspark                                     ...</td>\n    </tr>\n    <tr>\n      <th>4</th>\n      <td>Kowloon (1049)</td>\n      <td>Mongkok                                       ...</td>\n    </tr>\n  </tbody>\n</table>\n</div>", 
                        "text/plain": "         District                                       neighborhood\n0  Kowloon (1049)  Tsim Sha Tsui                                 ...\n1  Kowloon (1049)  Kowloon Station                               ...\n2  Kowloon (1049)  Yau Ma Tei                                    ...\n3  Kowloon (1049)  Kingspark                                     ...\n4  Kowloon (1049)  Mongkok                                       ..."
                    }, 
                    "output_type": "execute_result"
                }
            ], 
            "source": "Kowloon_Location = pd.DataFrame({'District': subdistricts[0],'neighborhood': subdistricts[1:]})\nKowloon_Location.head()"
        }, 
        {
            "source": "#### Repeat above for Hong Kong Island and concate the dataframe", 
            "cell_type": "markdown", 
            "metadata": {}
        }, 
        {
            "execution_count": 182, 
            "cell_type": "code", 
            "metadata": {}, 
            "outputs": [
                {
                    "output_type": "stream", 
                    "name": "stdout", 
                    "text": "           District                                       neighborhood\n0  Hong Kong (1397)  Chai Wan                                      ...\n1  Hong Kong (1397)  Heng Fa Chuen (Chai Wan)                      ...\n2  Hong Kong (1397)  Shau Kei Wan                                  ...\n3  Hong Kong (1397)  Sai Wan Ho / Taikoo                           ...\n4  Hong Kong (1397)  Quarry Bay                                    ...\n"
                }
            ], 
            "source": "url = \"https://en.midland.com.hk/estate/Hong-Kong-10\"\nhtml = requests.get(url).text\nsoup2 = bs(html, 'html.parser')\nsoup2\nta = soup2.find('nav', {'id': 'districts'})\nChildren = ta.findChildren(\"a\" , recursive=False)\nsubdistricts = []\nfor child in Children:\n    subdistricts.append(child.text)\nsubdistricts\nHK_Island_Location = pd.DataFrame({'District': subdistricts[0],'neighborhood': subdistricts[1:]})\nprint(HK_Island_Location.head())\n\nHK_Location = pd.concat([Kowloon_Location, HK_Island_Location],ignore_index=True)"
        }, 
        {
            "source": "#### Remove the unwanted brackets and numbers", 
            "cell_type": "markdown", 
            "metadata": {}
        }, 
        {
            "execution_count": 183, 
            "cell_type": "code", 
            "metadata": {
                "scrolled": true
            }, 
            "outputs": [
                {
                    "execution_count": 183, 
                    "metadata": {}, 
                    "data": {
                        "text/html": "<div>\n<style scoped>\n    .dataframe tbody tr th:only-of-type {\n        vertical-align: middle;\n    }\n\n    .dataframe tbody tr th {\n        vertical-align: top;\n    }\n\n    .dataframe thead th {\n        text-align: right;\n    }\n</style>\n<table border=\"1\" class=\"dataframe\">\n  <thead>\n    <tr style=\"text-align: right;\">\n      <th></th>\n      <th>District</th>\n      <th>neighborhood</th>\n    </tr>\n  </thead>\n  <tbody>\n    <tr>\n      <th>0</th>\n      <td>Kowloon</td>\n      <td>Tsim Sha Tsui</td>\n    </tr>\n    <tr>\n      <th>1</th>\n      <td>Kowloon</td>\n      <td>Kowloon Station</td>\n    </tr>\n    <tr>\n      <th>2</th>\n      <td>Kowloon</td>\n      <td>Yau Ma Tei</td>\n    </tr>\n    <tr>\n      <th>3</th>\n      <td>Kowloon</td>\n      <td>Kingspark</td>\n    </tr>\n    <tr>\n      <th>4</th>\n      <td>Kowloon</td>\n      <td>Mongkok</td>\n    </tr>\n  </tbody>\n</table>\n</div>", 
                        "text/plain": "  District     neighborhood\n0  Kowloon    Tsim Sha Tsui\n1  Kowloon  Kowloon Station\n2  Kowloon       Yau Ma Tei\n3  Kowloon        Kingspark\n4  Kowloon          Mongkok"
                    }, 
                    "output_type": "execute_result"
                }
            ], 
            "source": "import re\ndef removedigit(x):\n    x = re.findall(\"([a-zA-Z ]+.+[a-zA-Z ]+)\", x)[0].strip()\n    return x\n\nHK_Location = HK_Location.applymap(removedigit)\nHK_Location.head()"
        }, 
        {
            "source": "#### Some additional adjustments...\nTo avoid confusion and ensure correct coordinates are produced during the search,\n1. Several neighborhoods in Hong Kong have similar names - For searching purpose, I will add the district name of that neighborhood.\n2. Some neighborhoods' names can be confusing, such as Kowloon station (Actually it is a metro station). I will rename them or drop them\n3. For some rows, there is \"/\" to seperate 2 or more neighborhoods. Indeed they are different neighborhoods. I will remove the \"/\" and create an additional row. ", 
            "cell_type": "markdown", 
            "metadata": {}
        }, 
        {
            "source": "##### Split and create additional rows", 
            "cell_type": "markdown", 
            "metadata": {}
        }, 
        {
            "execution_count": 184, 
            "cell_type": "code", 
            "metadata": {}, 
            "outputs": [
                {
                    "execution_count": 184, 
                    "metadata": {}, 
                    "data": {
                        "text/html": "<div>\n<style scoped>\n    .dataframe tbody tr th:only-of-type {\n        vertical-align: middle;\n    }\n\n    .dataframe tbody tr th {\n        vertical-align: top;\n    }\n\n    .dataframe thead th {\n        text-align: right;\n    }\n</style>\n<table border=\"1\" class=\"dataframe\">\n  <thead>\n    <tr style=\"text-align: right;\">\n      <th></th>\n      <th>neighborhood</th>\n      <th>District</th>\n    </tr>\n  </thead>\n  <tbody>\n    <tr>\n      <th>0</th>\n      <td>Tsim Sha Tsui</td>\n      <td>Kowloon</td>\n    </tr>\n    <tr>\n      <th>1</th>\n      <td>Kowloon Station</td>\n      <td>Kowloon</td>\n    </tr>\n    <tr>\n      <th>2</th>\n      <td>Yau Ma Tei</td>\n      <td>Kowloon</td>\n    </tr>\n    <tr>\n      <th>3</th>\n      <td>Kingspark</td>\n      <td>Kowloon</td>\n    </tr>\n    <tr>\n      <th>4</th>\n      <td>Mongkok</td>\n      <td>Kowloon</td>\n    </tr>\n    <tr>\n      <th>5</th>\n      <td>Tai Kok Tsui</td>\n      <td>Kowloon</td>\n    </tr>\n    <tr>\n      <th>6</th>\n      <td>Olympic</td>\n      <td>Kowloon</td>\n    </tr>\n    <tr>\n      <th>7</th>\n      <td>Lai Chi Kok</td>\n      <td>Kowloon</td>\n    </tr>\n    <tr>\n      <th>8</th>\n      <td>Mei Foo</td>\n      <td>Kowloon</td>\n    </tr>\n    <tr>\n      <th>9</th>\n      <td>Cheung Sha Wan</td>\n      <td>Kowloon</td>\n    </tr>\n    <tr>\n      <th>10</th>\n      <td>Sham Shui Po</td>\n      <td>Kowloon</td>\n    </tr>\n    <tr>\n      <th>11</th>\n      <td>Yau Yat Chuen</td>\n      <td>Kowloon</td>\n    </tr>\n    <tr>\n      <th>12</th>\n      <td>Kowloon Tong</td>\n      <td>Kowloon</td>\n    </tr>\n    <tr>\n      <th>13</th>\n      <td>Beacon Hill</td>\n      <td>Kowloon</td>\n    </tr>\n    <tr>\n      <th>14</th>\n      <td>Ho Man Tin</td>\n      <td>Kowloon</td>\n    </tr>\n    <tr>\n      <th>15</th>\n      <td>Hung Hom</td>\n      <td>Kowloon</td>\n    </tr>\n    <tr>\n      <th>16</th>\n      <td>To Kwa Wan</td>\n      <td>Kowloon</td>\n    </tr>\n    <tr>\n      <th>17</th>\n      <td>Kai Tak</td>\n      <td>Kowloon</td>\n    </tr>\n    <tr>\n      <th>18</th>\n      <td>Kowloon City</td>\n      <td>Kowloon</td>\n    </tr>\n    <tr>\n      <th>19</th>\n      <td>Wong Tai Sin</td>\n      <td>Kowloon</td>\n    </tr>\n    <tr>\n      <th>20</th>\n      <td>Lok Fu</td>\n      <td>Kowloon</td>\n    </tr>\n    <tr>\n      <th>21</th>\n      <td>Diamond Hill</td>\n      <td>Kowloon</td>\n    </tr>\n    <tr>\n      <th>22</th>\n      <td>San Po Kong</td>\n      <td>Kowloon</td>\n    </tr>\n    <tr>\n      <th>23</th>\n      <td>Ngau Chi Wan</td>\n      <td>Kowloon</td>\n    </tr>\n    <tr>\n      <th>24</th>\n      <td>Kowloon Bay</td>\n      <td>Kowloon</td>\n    </tr>\n    <tr>\n      <th>25</th>\n      <td>Kwun Tong</td>\n      <td>Kowloon</td>\n    </tr>\n    <tr>\n      <th>26</th>\n      <td>Lam Tin</td>\n      <td>Kowloon</td>\n    </tr>\n    <tr>\n      <th>27</th>\n      <td>Yau Tong</td>\n      <td>Kowloon</td>\n    </tr>\n    <tr>\n      <th>28</th>\n      <td>Lohas Park</td>\n      <td>Kowloon</td>\n    </tr>\n    <tr>\n      <th>29</th>\n      <td>Tiu Keng Leng</td>\n      <td>Kowloon</td>\n    </tr>\n    <tr>\n      <th>30</th>\n      <td>Hang Hau</td>\n      <td>Kowloon</td>\n    </tr>\n    <tr>\n      <th>31</th>\n      <td>Po Lam</td>\n      <td>Kowloon</td>\n    </tr>\n    <tr>\n      <th>32</th>\n      <td>Tseung Kwan O Station</td>\n      <td>Kowloon</td>\n    </tr>\n    <tr>\n      <th>33</th>\n      <td>Chai Wan</td>\n      <td>Hong Kong</td>\n    </tr>\n    <tr>\n      <th>34</th>\n      <td>Heng Fa Chuen (Chai Wan)</td>\n      <td>Hong Kong</td>\n    </tr>\n    <tr>\n      <th>35</th>\n      <td>Shau Kei Wan</td>\n      <td>Hong Kong</td>\n    </tr>\n    <tr>\n      <th>36</th>\n      <td>Sai Wan Ho</td>\n      <td>Hong Kong</td>\n    </tr>\n    <tr>\n      <th>37</th>\n      <td>Taikoo</td>\n      <td>Hong Kong</td>\n    </tr>\n    <tr>\n      <th>38</th>\n      <td>Quarry Bay</td>\n      <td>Hong Kong</td>\n    </tr>\n    <tr>\n      <th>39</th>\n      <td>North Point</td>\n      <td>Hong Kong</td>\n    </tr>\n    <tr>\n      <th>40</th>\n      <td>Fortress Hill</td>\n      <td>Hong Kong</td>\n    </tr>\n    <tr>\n      <th>41</th>\n      <td>Braemar Hill</td>\n      <td>Hong Kong</td>\n    </tr>\n    <tr>\n      <th>42</th>\n      <td>North Point Midlevel</td>\n      <td>Hong Kong</td>\n    </tr>\n    <tr>\n      <th>43</th>\n      <td>Tai Hang</td>\n      <td>Hong Kong</td>\n    </tr>\n    <tr>\n      <th>44</th>\n      <td>Tin Hau</td>\n      <td>Hong Kong</td>\n    </tr>\n    <tr>\n      <th>45</th>\n      <td>Happy Valley</td>\n      <td>Hong Kong</td>\n    </tr>\n    <tr>\n      <th>46</th>\n      <td>Mid Level East</td>\n      <td>Hong Kong</td>\n    </tr>\n    <tr>\n      <th>47</th>\n      <td>Wan Chai</td>\n      <td>Hong Kong</td>\n    </tr>\n    <tr>\n      <th>48</th>\n      <td>Causeway Bay</td>\n      <td>Hong Kong</td>\n    </tr>\n    <tr>\n      <th>49</th>\n      <td>Central Mid-Levels</td>\n      <td>Hong Kong</td>\n    </tr>\n    <tr>\n      <th>50</th>\n      <td>Admiralty</td>\n      <td>Hong Kong</td>\n    </tr>\n    <tr>\n      <th>51</th>\n      <td>Sheung Wan</td>\n      <td>Hong Kong</td>\n    </tr>\n    <tr>\n      <th>52</th>\n      <td>Central</td>\n      <td>Hong Kong</td>\n    </tr>\n    <tr>\n      <th>53</th>\n      <td>Hong Kong West</td>\n      <td>Hong Kong</td>\n    </tr>\n    <tr>\n      <th>54</th>\n      <td>Western Mid-Levels</td>\n      <td>Hong Kong</td>\n    </tr>\n    <tr>\n      <th>55</th>\n      <td>The Peak</td>\n      <td>Hong Kong</td>\n    </tr>\n    <tr>\n      <th>56</th>\n      <td>Pokfulam</td>\n      <td>Hong Kong</td>\n    </tr>\n    <tr>\n      <th>57</th>\n      <td>Residence Bel-Air</td>\n      <td>Hong Kong</td>\n    </tr>\n    <tr>\n      <th>58</th>\n      <td>Ap Lei Chau</td>\n      <td>Hong Kong</td>\n    </tr>\n    <tr>\n      <th>59</th>\n      <td>Aberdeen</td>\n      <td>Hong Kong</td>\n    </tr>\n    <tr>\n      <th>60</th>\n      <td>Wong Chuk Hang</td>\n      <td>Hong Kong</td>\n    </tr>\n    <tr>\n      <th>61</th>\n      <td>Repulse Bay</td>\n      <td>Hong Kong</td>\n    </tr>\n    <tr>\n      <th>62</th>\n      <td>Shouson Hill</td>\n      <td>Hong Kong</td>\n    </tr>\n    <tr>\n      <th>63</th>\n      <td>Tai Tam</td>\n      <td>Hong Kong</td>\n    </tr>\n    <tr>\n      <th>64</th>\n      <td>Shek O</td>\n      <td>Hong Kong</td>\n    </tr>\n    <tr>\n      <th>65</th>\n      <td>Stanley</td>\n      <td>Hong Kong</td>\n    </tr>\n  </tbody>\n</table>\n</div>", 
                        "text/plain": "                neighborhood   District\n0              Tsim Sha Tsui    Kowloon\n1            Kowloon Station    Kowloon\n2                 Yau Ma Tei    Kowloon\n3                  Kingspark    Kowloon\n4                    Mongkok    Kowloon\n5               Tai Kok Tsui    Kowloon\n6                    Olympic    Kowloon\n7                Lai Chi Kok    Kowloon\n8                    Mei Foo    Kowloon\n9             Cheung Sha Wan    Kowloon\n10              Sham Shui Po    Kowloon\n11             Yau Yat Chuen    Kowloon\n12              Kowloon Tong    Kowloon\n13               Beacon Hill    Kowloon\n14                Ho Man Tin    Kowloon\n15                  Hung Hom    Kowloon\n16                To Kwa Wan    Kowloon\n17                   Kai Tak    Kowloon\n18              Kowloon City    Kowloon\n19              Wong Tai Sin    Kowloon\n20                    Lok Fu    Kowloon\n21              Diamond Hill    Kowloon\n22               San Po Kong    Kowloon\n23              Ngau Chi Wan    Kowloon\n24               Kowloon Bay    Kowloon\n25                 Kwun Tong    Kowloon\n26                   Lam Tin    Kowloon\n27                  Yau Tong    Kowloon\n28                Lohas Park    Kowloon\n29             Tiu Keng Leng    Kowloon\n30                  Hang Hau    Kowloon\n31                    Po Lam    Kowloon\n32     Tseung Kwan O Station    Kowloon\n33                  Chai Wan  Hong Kong\n34  Heng Fa Chuen (Chai Wan)  Hong Kong\n35              Shau Kei Wan  Hong Kong\n36                Sai Wan Ho  Hong Kong\n37                    Taikoo  Hong Kong\n38                Quarry Bay  Hong Kong\n39               North Point  Hong Kong\n40             Fortress Hill  Hong Kong\n41              Braemar Hill  Hong Kong\n42      North Point Midlevel  Hong Kong\n43                  Tai Hang  Hong Kong\n44                   Tin Hau  Hong Kong\n45              Happy Valley  Hong Kong\n46            Mid Level East  Hong Kong\n47                  Wan Chai  Hong Kong\n48              Causeway Bay  Hong Kong\n49        Central Mid-Levels  Hong Kong\n50                 Admiralty  Hong Kong\n51                Sheung Wan  Hong Kong\n52                   Central  Hong Kong\n53            Hong Kong West  Hong Kong\n54        Western Mid-Levels  Hong Kong\n55                  The Peak  Hong Kong\n56                  Pokfulam  Hong Kong\n57         Residence Bel-Air  Hong Kong\n58               Ap Lei Chau  Hong Kong\n59                  Aberdeen  Hong Kong\n60            Wong Chuk Hang  Hong Kong\n61               Repulse Bay  Hong Kong\n62              Shouson Hill  Hong Kong\n63                   Tai Tam  Hong Kong\n64                    Shek O  Hong Kong\n65                   Stanley  Hong Kong"
                    }, 
                    "output_type": "execute_result"
                }
            ], 
            "source": "HK_Location2 = pd.concat([pd.Series(row['District'], row['neighborhood'].split('/'))              \n                    for _, row in HK_Location.iterrows()]).reset_index().rename(index=str, columns={\"index\": \"neighborhood\", 0: \"District\"})\n\nHK_Location2[HK_Location2.columns] = HK_Location2.apply(lambda x: x.str.strip())\nHK_Location2"
        }, 
        {
            "source": "##### Rename neighborhood name /  Drop rows", 
            "cell_type": "markdown", 
            "metadata": {}
        }, 
        {
            "execution_count": 185, 
            "cell_type": "code", 
            "metadata": {}, 
            "outputs": [
                {
                    "execution_count": 185, 
                    "metadata": {}, 
                    "data": {
                        "text/html": "<div>\n<style scoped>\n    .dataframe tbody tr th:only-of-type {\n        vertical-align: middle;\n    }\n\n    .dataframe tbody tr th {\n        vertical-align: top;\n    }\n\n    .dataframe thead th {\n        text-align: right;\n    }\n</style>\n<table border=\"1\" class=\"dataframe\">\n  <thead>\n    <tr style=\"text-align: right;\">\n      <th></th>\n      <th>neighborhood</th>\n      <th>District</th>\n    </tr>\n  </thead>\n  <tbody>\n    <tr>\n      <th>0</th>\n      <td>Tsim Sha Tsui</td>\n      <td>Kowloon</td>\n    </tr>\n    <tr>\n      <th>1</th>\n      <td>Yau Ma Tei</td>\n      <td>Kowloon</td>\n    </tr>\n    <tr>\n      <th>2</th>\n      <td>Kings park</td>\n      <td>Kowloon</td>\n    </tr>\n    <tr>\n      <th>3</th>\n      <td>Mongkok</td>\n      <td>Kowloon</td>\n    </tr>\n    <tr>\n      <th>4</th>\n      <td>Tai Kok Tsui</td>\n      <td>Kowloon</td>\n    </tr>\n    <tr>\n      <th>5</th>\n      <td>Olympic</td>\n      <td>Kowloon</td>\n    </tr>\n    <tr>\n      <th>6</th>\n      <td>Lai Chi Kok</td>\n      <td>Kowloon</td>\n    </tr>\n    <tr>\n      <th>7</th>\n      <td>Mei Foo</td>\n      <td>Kowloon</td>\n    </tr>\n    <tr>\n      <th>8</th>\n      <td>Cheung Sha Wan</td>\n      <td>Kowloon</td>\n    </tr>\n    <tr>\n      <th>9</th>\n      <td>Sham Shui Po</td>\n      <td>Kowloon</td>\n    </tr>\n    <tr>\n      <th>10</th>\n      <td>Yau Yat Chuen</td>\n      <td>Kowloon</td>\n    </tr>\n    <tr>\n      <th>11</th>\n      <td>Kowloon Tong</td>\n      <td>Kowloon</td>\n    </tr>\n    <tr>\n      <th>12</th>\n      <td>Beacon Hill</td>\n      <td>Kowloon</td>\n    </tr>\n    <tr>\n      <th>13</th>\n      <td>Ho Man Tin</td>\n      <td>Kowloon</td>\n    </tr>\n    <tr>\n      <th>14</th>\n      <td>Hung Hom</td>\n      <td>Kowloon</td>\n    </tr>\n    <tr>\n      <th>15</th>\n      <td>To Kwa Wan</td>\n      <td>Kowloon</td>\n    </tr>\n    <tr>\n      <th>16</th>\n      <td>Kai Tak</td>\n      <td>Kowloon</td>\n    </tr>\n    <tr>\n      <th>17</th>\n      <td>Kowloon City</td>\n      <td>Kowloon</td>\n    </tr>\n    <tr>\n      <th>18</th>\n      <td>Wong Tai Sin</td>\n      <td>Kowloon</td>\n    </tr>\n    <tr>\n      <th>19</th>\n      <td>Lok Fu</td>\n      <td>Kowloon</td>\n    </tr>\n    <tr>\n      <th>20</th>\n      <td>Diamond Hill</td>\n      <td>Kowloon</td>\n    </tr>\n    <tr>\n      <th>21</th>\n      <td>San Po Kong</td>\n      <td>Kowloon</td>\n    </tr>\n    <tr>\n      <th>22</th>\n      <td>Ngau Chi Wan</td>\n      <td>Kowloon</td>\n    </tr>\n    <tr>\n      <th>23</th>\n      <td>Kowloon Bay</td>\n      <td>Kowloon</td>\n    </tr>\n    <tr>\n      <th>24</th>\n      <td>Kwun Tong</td>\n      <td>Kowloon</td>\n    </tr>\n    <tr>\n      <th>25</th>\n      <td>Lam Tin</td>\n      <td>Kowloon</td>\n    </tr>\n    <tr>\n      <th>26</th>\n      <td>Yau Tong Station</td>\n      <td>Kowloon</td>\n    </tr>\n    <tr>\n      <th>27</th>\n      <td>Po Lam</td>\n      <td>Kowloon</td>\n    </tr>\n    <tr>\n      <th>28</th>\n      <td>Tseung Kwan O</td>\n      <td>Kowloon</td>\n    </tr>\n    <tr>\n      <th>29</th>\n      <td>Chai Wan</td>\n      <td>Hong Kong</td>\n    </tr>\n    <tr>\n      <th>30</th>\n      <td>Heng Fa Chuen</td>\n      <td>Hong Kong</td>\n    </tr>\n    <tr>\n      <th>31</th>\n      <td>Shau Kei Wan</td>\n      <td>Hong Kong</td>\n    </tr>\n    <tr>\n      <th>32</th>\n      <td>Sai Wan Ho</td>\n      <td>Hong Kong</td>\n    </tr>\n    <tr>\n      <th>33</th>\n      <td>Taikoo</td>\n      <td>Hong Kong</td>\n    </tr>\n    <tr>\n      <th>34</th>\n      <td>Quarry Bay</td>\n      <td>Hong Kong</td>\n    </tr>\n    <tr>\n      <th>35</th>\n      <td>North Point</td>\n      <td>Hong Kong</td>\n    </tr>\n    <tr>\n      <th>36</th>\n      <td>Fortress Hill</td>\n      <td>Hong Kong</td>\n    </tr>\n    <tr>\n      <th>37</th>\n      <td>Braemar Hill</td>\n      <td>Hong Kong</td>\n    </tr>\n    <tr>\n      <th>38</th>\n      <td>Tin Hau</td>\n      <td>Hong Kong</td>\n    </tr>\n    <tr>\n      <th>39</th>\n      <td>Happy Valley</td>\n      <td>Hong Kong</td>\n    </tr>\n    <tr>\n      <th>40</th>\n      <td>Wan Chai</td>\n      <td>Hong Kong</td>\n    </tr>\n    <tr>\n      <th>41</th>\n      <td>Causeway Bay</td>\n      <td>Hong Kong</td>\n    </tr>\n    <tr>\n      <th>42</th>\n      <td>Admiralty</td>\n      <td>Hong Kong</td>\n    </tr>\n    <tr>\n      <th>43</th>\n      <td>Sheung Wan</td>\n      <td>Hong Kong</td>\n    </tr>\n    <tr>\n      <th>44</th>\n      <td>Central District</td>\n      <td>Hong Kong</td>\n    </tr>\n    <tr>\n      <th>45</th>\n      <td>The Peak</td>\n      <td>Hong Kong</td>\n    </tr>\n    <tr>\n      <th>46</th>\n      <td>Pokfulam</td>\n      <td>Hong Kong</td>\n    </tr>\n    <tr>\n      <th>47</th>\n      <td>Residence Bel-Air</td>\n      <td>Hong Kong</td>\n    </tr>\n    <tr>\n      <th>48</th>\n      <td>Ap Lei Chau</td>\n      <td>Hong Kong</td>\n    </tr>\n    <tr>\n      <th>49</th>\n      <td>Aberdeen</td>\n      <td>Hong Kong</td>\n    </tr>\n    <tr>\n      <th>50</th>\n      <td>Wong Chuk Hang</td>\n      <td>Hong Kong</td>\n    </tr>\n    <tr>\n      <th>51</th>\n      <td>Repulse Bay</td>\n      <td>Hong Kong</td>\n    </tr>\n    <tr>\n      <th>52</th>\n      <td>Shouson Hill</td>\n      <td>Hong Kong</td>\n    </tr>\n  </tbody>\n</table>\n</div>", 
                        "text/plain": "         neighborhood   District\n0       Tsim Sha Tsui    Kowloon\n1          Yau Ma Tei    Kowloon\n2          Kings park    Kowloon\n3             Mongkok    Kowloon\n4        Tai Kok Tsui    Kowloon\n5             Olympic    Kowloon\n6         Lai Chi Kok    Kowloon\n7             Mei Foo    Kowloon\n8      Cheung Sha Wan    Kowloon\n9        Sham Shui Po    Kowloon\n10      Yau Yat Chuen    Kowloon\n11       Kowloon Tong    Kowloon\n12        Beacon Hill    Kowloon\n13         Ho Man Tin    Kowloon\n14           Hung Hom    Kowloon\n15         To Kwa Wan    Kowloon\n16            Kai Tak    Kowloon\n17       Kowloon City    Kowloon\n18       Wong Tai Sin    Kowloon\n19             Lok Fu    Kowloon\n20       Diamond Hill    Kowloon\n21        San Po Kong    Kowloon\n22       Ngau Chi Wan    Kowloon\n23        Kowloon Bay    Kowloon\n24          Kwun Tong    Kowloon\n25            Lam Tin    Kowloon\n26   Yau Tong Station    Kowloon\n27             Po Lam    Kowloon\n28      Tseung Kwan O    Kowloon\n29           Chai Wan  Hong Kong\n30      Heng Fa Chuen  Hong Kong\n31       Shau Kei Wan  Hong Kong\n32         Sai Wan Ho  Hong Kong\n33             Taikoo  Hong Kong\n34         Quarry Bay  Hong Kong\n35        North Point  Hong Kong\n36      Fortress Hill  Hong Kong\n37       Braemar Hill  Hong Kong\n38            Tin Hau  Hong Kong\n39       Happy Valley  Hong Kong\n40           Wan Chai  Hong Kong\n41       Causeway Bay  Hong Kong\n42          Admiralty  Hong Kong\n43         Sheung Wan  Hong Kong\n44   Central District  Hong Kong\n45           The Peak  Hong Kong\n46           Pokfulam  Hong Kong\n47  Residence Bel-Air  Hong Kong\n48        Ap Lei Chau  Hong Kong\n49           Aberdeen  Hong Kong\n50     Wong Chuk Hang  Hong Kong\n51        Repulse Bay  Hong Kong\n52       Shouson Hill  Hong Kong"
                    }, 
                    "output_type": "execute_result"
                }
            ], 
            "source": "HK_Location2.loc[HK_Location2.neighborhood == 'Kingspark', 'neighborhood'] = 'Kings park'\nHK_Location2.loc[HK_Location2.neighborhood == 'Tseung Kwan O Station', 'neighborhood'] = 'Tseung Kwan O'\nHK_Location2.loc[HK_Location2.neighborhood == 'Yau Tong', 'neighborhood'] = 'Yau Tong Station'\nHK_Location2.loc[HK_Location2.neighborhood == 'Heng Fa Chuen (Chai Wan)', 'neighborhood'] = 'Heng Fa Chuen'\nHK_Location2.loc[HK_Location2.neighborhood == 'Central Mid-Levels', 'neighborhood'] = 'Mid-Levels'\nHK_Location2.loc[HK_Location2.neighborhood == 'Central', 'neighborhood'] = 'Central District'\n\n#Droping\nHK_Location2.drop(HK_Location2[HK_Location2.neighborhood == \"Tiu Keng Leng\"].index, inplace=True)\nHK_Location2.drop(HK_Location2[HK_Location2.neighborhood == \"Lohas Park\"].index, inplace=True)\nHK_Location2.drop(HK_Location2[HK_Location2.neighborhood == \"Hang Hau\"].index, inplace=True)\nHK_Location2.drop(HK_Location2[HK_Location2.neighborhood == \"Kowloon Station\"].index, inplace=True)\nHK_Location2.drop(HK_Location2[HK_Location2.neighborhood == \"Mid-Levels\"].index, inplace=True)\nHK_Location2.drop(HK_Location2[HK_Location2.neighborhood == \"North Point Midlevel\"].index, inplace=True)\nHK_Location2.drop(HK_Location2[HK_Location2.neighborhood == \"Mid Level East\"].index, inplace=True)\nHK_Location2.drop(HK_Location2[HK_Location2.neighborhood == \"North\"].index, inplace=True)\nHK_Location2.drop(HK_Location2[HK_Location2.neighborhood == \"Hong Kong West\"].index, inplace=True)\nHK_Location2.drop(HK_Location2[HK_Location2.neighborhood == \"Western Mid-Levels\"].index, inplace=True)\nHK_Location2.drop(HK_Location2[HK_Location2.neighborhood == \"Tai Hang\"].index, inplace=True)\nHK_Location2.drop(HK_Location2[HK_Location2.neighborhood == \"Stanley\"].index, inplace=True)\nHK_Location2.drop(HK_Location2[HK_Location2.neighborhood == \"Shek O\"].index, inplace=True)\nHK_Location2.drop(HK_Location2[HK_Location2.neighborhood == \"Tai Tam\"].index, inplace=True)\n\n\nHK_Location2.reset_index(drop=True, inplace=True)\nHK_Location2"
        }, 
        {
            "source": "The location names are ready.\nNow it's time to use Nominatim to search the coordinate of each neighborhood\n\n#### Import the neccessary library ", 
            "cell_type": "markdown", 
            "metadata": {}
        }, 
        {
            "execution_count": 186, 
            "cell_type": "code", 
            "metadata": {}, 
            "outputs": [
                {
                    "output_type": "stream", 
                    "name": "stdout", 
                    "text": "Solving environment: done\n\n# All requested packages already installed.\n\nSolving environment: done\n\n# All requested packages already installed.\n\nLibraries imported.\n"
                }
            ], 
            "source": "import numpy as np # library to handle data in a vectorized manner\n\nimport pandas as pd # library for data analsysis\npd.set_option('display.max_columns', None)\npd.set_option('display.max_rows', None)\n\n!conda install -c conda-forge geopy --yes # uncomment this line if you haven't completed the Foursquare API lab\nfrom geopy.geocoders import Nominatim # convert an address into latitude and longitude values\n\nimport requests # library to handle requests\n#from pandas.io.json import json_normalize # tranform JSON file into a pandas dataframe\n\n# Matplotlib and associated plotting modules\n#import matplotlib.cm as cm\n#import matplotlib.colors as colors\n\n# import k-means from clustering stage\nfrom sklearn.cluster import KMeans\n\n!conda install -c conda-forge folium=0.5.0 --yes # uncomment this line if you haven't completed the Foursquare API lab\nimport folium # map rendering library\n\nprint('Libraries imported.')"
        }, 
        {
            "source": "#### Create a new dataframe to contain the coordinate information", 
            "cell_type": "markdown", 
            "metadata": {}
        }, 
        {
            "execution_count": 187, 
            "cell_type": "code", 
            "metadata": {}, 
            "outputs": [
                {
                    "execution_count": 187, 
                    "metadata": {}, 
                    "data": {
                        "text/html": "<div>\n<style scoped>\n    .dataframe tbody tr th:only-of-type {\n        vertical-align: middle;\n    }\n\n    .dataframe tbody tr th {\n        vertical-align: top;\n    }\n\n    .dataframe thead th {\n        text-align: right;\n    }\n</style>\n<table border=\"1\" class=\"dataframe\">\n  <thead>\n    <tr style=\"text-align: right;\">\n      <th></th>\n      <th>Neighborhood</th>\n      <th>District</th>\n      <th>Latitude</th>\n      <th>Longitude</th>\n      <th>searching</th>\n    </tr>\n  </thead>\n  <tbody>\n  </tbody>\n</table>\n</div>", 
                        "text/plain": "Empty DataFrame\nColumns: [Neighborhood, District, Latitude, Longitude, searching]\nIndex: []"
                    }, 
                    "output_type": "execute_result"
                }
            ], 
            "source": "Location = pd.DataFrame(columns=['Neighborhood','District','Latitude', 'Longitude','searching'])\nLocation"
        }, 
        {
            "execution_count": 188, 
            "cell_type": "code", 
            "metadata": {}, 
            "outputs": [
                {
                    "output_type": "stream", 
                    "name": "stdout", 
                    "text": "The geograpical coordinate of Tsim Sha Tsui Kowloon are 22.298872, 114.1741181.\nThe geograpical coordinate of Yau Ma Tei Kowloon are 22.3069384, 114.1644631.\nThe geograpical coordinate of Kings park Kowloon are 22.3105718, 114.1742986.\nThe geograpical coordinate of Mongkok Kowloon are 22.3196852, 114.1683968.\nThe geograpical coordinate of Tai Kok Tsui Kowloon are 22.3210684, 114.1612096.\nThe geograpical coordinate of Olympic Kowloon are 22.317798, 114.160234013365.\nThe geograpical coordinate of Lai Chi Kok Kowloon are 22.3294409, 114.146655017682.\nThe geograpical coordinate of Mei Foo Hong Kong are 22.33880415, 114.136548836551.\nThe geograpical coordinate of Cheung Sha Wan Kowloon are 22.336246, 114.1517566.\nThe geograpical coordinate of Sham Shui Po Kowloon are 22.3300955, 114.1609403.\nThe geograpical coordinate of Yau Yat Chuen Kowloon are 22.3310303, 114.1744603.\nThe geograpical coordinate of Kowloon Tong Kowloon are 22.331632, 114.1800196.\nThe geograpical coordinate of Beacon Hill Kowloon are 22.3418524, 114.176338.\nThe geograpical coordinate of Ho Man Tin Kowloon are 22.3166958, 114.1808009.\nThe geograpical coordinate of Hung Hom Kowloon are 22.3072178, 114.1853158.\nThe geograpical coordinate of To Kwa Wan Kowloon are 22.3167582, 114.1895402.\nThe geograpical coordinate of Kai Tak Kowloon are 22.3303107, 114.1993138.\nThe geograpical coordinate of Kowloon City Kowloon are 22.331013, 114.190366.\nThe geograpical coordinate of Wong Tai Sin Kowloon are 22.3420635, 114.1943877.\nThe geograpical coordinate of Lok Fu Kowloon are 22.33798465, 114.186949699892.\nThe geograpical coordinate of Diamond Hill Kowloon are 22.3452225, 114.2050982.\nThe geograpical coordinate of San Po Kong Kowloon are 22.3367792, 114.1983266.\nThe geograpical coordinate of Ngau Chi Wan Kowloon are 22.33910325, 114.213836051418.\nThe geograpical coordinate of Kowloon Bay Kowloon are 22.3234851, 114.214101952407.\nThe geograpical coordinate of Kwun Tong Kowloon are 22.31212605, 114.226500818814.\nThe geograpical coordinate of Lam Tin Kowloon are 22.3067536, 114.2330154.\nThe geograpical coordinate of Yau Tong Station Hong Kong are 22.29765825, 114.237256716455.\nThe geograpical coordinate of Po Lam Kowloon are 22.32309495, 114.259652073963.\nThe geograpical coordinate of Tseung Kwan O Kowloon are 22.3087855, 114.259633.\nThe geograpical coordinate of Chai Wan Hong Kong are 22.2656067, 114.2379644.\nThe geograpical coordinate of Heng Fa Chuen Hong Kong are 22.27785875, 114.240264469279.\nThe geograpical coordinate of Shau Kei Wan Hong Kong are 22.2790972, 114.2286665.\nThe geograpical coordinate of Sai Wan Ho Hong Kong are 22.2816256, 114.2222894.\nThe geograpical coordinate of Taikoo Hong Kong are 22.2871789, 114.212373.\nThe geograpical coordinate of Quarry Bay Hong Kong are 22.2842708, 114.2128445.\nThe geograpical coordinate of North Point Hong Kong are 22.2916575, 114.1995447.\nThe geograpical coordinate of Fortress Hill Hong Kong are 22.2875631, 114.1933149.\nThe geograpical coordinate of Braemar Hill Hong Kong are 22.2864177, 114.2064417.\nThe geograpical coordinate of Tin Hau Hong Kong are 22.2822499, 114.191786739649.\nThe geograpical coordinate of Happy Valley Hong Kong are 22.2684644, 114.1860289.\nThe geograpical coordinate of Wan Chai Hong Kong are 22.27746475, 114.173026477259.\nThe geograpical coordinate of Causeway Bay Hong Kong are 22.280208, 114.1848407.\nThe geograpical coordinate of Admiralty Hong Kong are 22.28424235, 114.1588332574.\nThe geograpical coordinate of Sheung Wan Hong Kong are 22.2868701, 114.150267.\nThe geograpical coordinate of Central District Hong Kong are 22.2813223, 114.1602579.\nThe geograpical coordinate of The Peak Hong Kong are 22.2720026, 114.1524166.\nThe geograpical coordinate of Pokfulam Hong Kong are 22.2613573, 114.1368089.\nThe geograpical coordinate of Residence Bel-Air Hong Kong are 14.56690685, 121.029658090807.\nThe geograpical coordinate of Ap Lei Chau Hong Kong are 22.2412104, 114.1541361.\nThe geograpical coordinate of Aberdeen Hong Kong are 22.2487691, 114.155954.\nThe geograpical coordinate of Wong Chuk Hang Hong Kong are 22.2485106, 114.1667025.\nThe geograpical coordinate of Repulse Bay Hong Kong are 22.2393943, 114.195707791394.\nThe geograpical coordinate of Shouson Hill Hong Kong are 22.2476304, 114.1819818.\n"
                }
            ], 
            "source": "def Nominatimcoordinate(address,neighborhood,district):\n    location = geolocator.geocode(address)\n    latitude = location.latitude\n    longitude = location.longitude\n    print('The geograpical coordinate of' , address,  'are {}, {}.'.format(latitude, longitude))\n    Location.loc[len(Location)] = [neighborhood,district,latitude,longitude,address]\n\ngeolocator = Nominatim(user_agent=\"ibm\")\nfor index, row in HK_Location2.iterrows():\n    neighborhood = row['neighborhood']\n    district = row['District']\n    address = row['neighborhood'] + \" \" + row['District']\n    try:\n        Nominatimcoordinate(address,neighborhood,district)\n    except:\n        address = row['neighborhood'] + \" \" + \"Hong Kong\"\n        Nominatimcoordinate(address,neighborhood,district)    "
        }, 
        {
            "execution_count": 189, 
            "cell_type": "code", 
            "metadata": {}, 
            "outputs": [
                {
                    "execution_count": 189, 
                    "metadata": {}, 
                    "data": {
                        "text/html": "<div>\n<style scoped>\n    .dataframe tbody tr th:only-of-type {\n        vertical-align: middle;\n    }\n\n    .dataframe tbody tr th {\n        vertical-align: top;\n    }\n\n    .dataframe thead th {\n        text-align: right;\n    }\n</style>\n<table border=\"1\" class=\"dataframe\">\n  <thead>\n    <tr style=\"text-align: right;\">\n      <th></th>\n      <th>Neighborhood</th>\n      <th>District</th>\n      <th>Latitude</th>\n      <th>Longitude</th>\n      <th>searching</th>\n    </tr>\n  </thead>\n  <tbody>\n    <tr>\n      <th>0</th>\n      <td>Tsim Sha Tsui</td>\n      <td>Kowloon</td>\n      <td>22.298872</td>\n      <td>114.174118</td>\n      <td>Tsim Sha Tsui Kowloon</td>\n    </tr>\n    <tr>\n      <th>1</th>\n      <td>Yau Ma Tei</td>\n      <td>Kowloon</td>\n      <td>22.306938</td>\n      <td>114.164463</td>\n      <td>Yau Ma Tei Kowloon</td>\n    </tr>\n    <tr>\n      <th>2</th>\n      <td>Kings park</td>\n      <td>Kowloon</td>\n      <td>22.310572</td>\n      <td>114.174299</td>\n      <td>Kings park Kowloon</td>\n    </tr>\n    <tr>\n      <th>3</th>\n      <td>Mongkok</td>\n      <td>Kowloon</td>\n      <td>22.319685</td>\n      <td>114.168397</td>\n      <td>Mongkok Kowloon</td>\n    </tr>\n    <tr>\n      <th>4</th>\n      <td>Tai Kok Tsui</td>\n      <td>Kowloon</td>\n      <td>22.321068</td>\n      <td>114.161210</td>\n      <td>Tai Kok Tsui Kowloon</td>\n    </tr>\n    <tr>\n      <th>5</th>\n      <td>Olympic</td>\n      <td>Kowloon</td>\n      <td>22.317798</td>\n      <td>114.160234</td>\n      <td>Olympic Kowloon</td>\n    </tr>\n    <tr>\n      <th>6</th>\n      <td>Lai Chi Kok</td>\n      <td>Kowloon</td>\n      <td>22.329441</td>\n      <td>114.146655</td>\n      <td>Lai Chi Kok Kowloon</td>\n    </tr>\n    <tr>\n      <th>7</th>\n      <td>Mei Foo</td>\n      <td>Kowloon</td>\n      <td>22.338804</td>\n      <td>114.136549</td>\n      <td>Mei Foo Hong Kong</td>\n    </tr>\n    <tr>\n      <th>8</th>\n      <td>Cheung Sha Wan</td>\n      <td>Kowloon</td>\n      <td>22.336246</td>\n      <td>114.151757</td>\n      <td>Cheung Sha Wan Kowloon</td>\n    </tr>\n    <tr>\n      <th>9</th>\n      <td>Sham Shui Po</td>\n      <td>Kowloon</td>\n      <td>22.330095</td>\n      <td>114.160940</td>\n      <td>Sham Shui Po Kowloon</td>\n    </tr>\n  </tbody>\n</table>\n</div>", 
                        "text/plain": "     Neighborhood District   Latitude   Longitude               searching\n0   Tsim Sha Tsui  Kowloon  22.298872  114.174118   Tsim Sha Tsui Kowloon\n1      Yau Ma Tei  Kowloon  22.306938  114.164463      Yau Ma Tei Kowloon\n2      Kings park  Kowloon  22.310572  114.174299      Kings park Kowloon\n3         Mongkok  Kowloon  22.319685  114.168397         Mongkok Kowloon\n4    Tai Kok Tsui  Kowloon  22.321068  114.161210    Tai Kok Tsui Kowloon\n5         Olympic  Kowloon  22.317798  114.160234         Olympic Kowloon\n6     Lai Chi Kok  Kowloon  22.329441  114.146655     Lai Chi Kok Kowloon\n7         Mei Foo  Kowloon  22.338804  114.136549       Mei Foo Hong Kong\n8  Cheung Sha Wan  Kowloon  22.336246  114.151757  Cheung Sha Wan Kowloon\n9    Sham Shui Po  Kowloon  22.330095  114.160940    Sham Shui Po Kowloon"
                    }, 
                    "output_type": "execute_result"
                }
            ], 
            "source": "Location.head(10)"
        }
    ], 
    "metadata": {
        "kernelspec": {
            "display_name": "Python 3.5", 
            "name": "python3", 
            "language": "python"
        }, 
        "language_info": {
            "mimetype": "text/x-python", 
            "nbconvert_exporter": "python", 
            "version": "3.5.5", 
            "name": "python", 
            "file_extension": ".py", 
            "pygments_lexer": "ipython3", 
            "codemirror_mode": {
                "version": 3, 
                "name": "ipython"
            }
        }
    }, 
    "nbformat": 4
}